{
  "nbformat": 4,
  "nbformat_minor": 0,
  "metadata": {
    "colab": {
      "name": "Create-csv-file.ipynb",
      "provenance": [],
      "authorship_tag": "ABX9TyOvoDwbXLa2UcTz8jK5nQvA",
      "include_colab_link": true
    },
    "kernelspec": {
      "name": "python3",
      "display_name": "Python 3"
    },
    "language_info": {
      "name": "python"
    }
  },
  "cells": [
    {
      "cell_type": "markdown",
      "metadata": {
        "id": "view-in-github",
        "colab_type": "text"
      },
      "source": [
        "<a href=\"https://colab.research.google.com/github/nandikonda-vishal21/vishchat/blob/main/Create_csv_file.ipynb\" target=\"_parent\"><img src=\"https://colab.research.google.com/assets/colab-badge.svg\" alt=\"Open In Colab\"/></a>"
      ]
    },
    {
      "cell_type": "code",
      "metadata": {
        "id": "JwJsSIuSTfld"
      },
      "source": [
        "import csv\n",
        "import os"
      ],
      "execution_count": 1,
      "outputs": []
    },
    {
      "cell_type": "code",
      "metadata": {
        "colab": {
          "base_uri": "https://localhost:8080/"
        },
        "id": "8wtSC6QwTvnH",
        "outputId": "dd23dc1d-b64c-4cab-ab9d-67cb345ffb52"
      },
      "source": [
        "with open(\"file.csv\",\"w\", newline=\"\") as f:\n",
        "  wr = csv.writer(f)\n",
        "  wr.writerow([\"Id\",\"Name\",\"Age\"])\n",
        "  wr.writerow([\"1\",\"Rahul\",\"50\"])\n",
        "  wr.writerow([\"2\",\"Mahesh\",\"80\"])\n",
        "  wr.writerow([\"3\",\"Ravi\",\"60\"])\n",
        "  wr.writerow([\"4\",\"Pranay\",\"55\"])\n",
        "print(\"CSV file(file.csv) is created at :\\n\", os.getcwd())"
      ],
      "execution_count": 2,
      "outputs": [
        {
          "output_type": "stream",
          "text": [
            "CSV file(file.csv) is created at :\n",
            " /content\n"
          ],
          "name": "stdout"
        }
      ]
    },
    {
      "cell_type": "code",
      "metadata": {
        "colab": {
          "base_uri": "https://localhost:8080/"
        },
        "id": "n_ciZLzcVhjS",
        "outputId": "301bd4ac-b97e-49c2-a191-1677b1120ad0"
      },
      "source": [
        "import csv\n",
        "rows = []\n",
        "with open(\"file.csv\",'r') as csvfile:\n",
        "  csvreader = csv.reader(csvfile)\n",
        "  columns = next(csvreader)\n",
        "  for row in csvreader :\n",
        "    rows.append(row)\n",
        "  print(\"Total no. of rows:\",(csvreader.line_num))\n",
        "print(\"\\nColumn names are : \" + \",\".join(col for col in columns))\n",
        "print(\"\\nrows are:\\n\")\n",
        "for row in rows :\n",
        "  for col in row :\n",
        "    print(col,end=\" \")\n",
        "  print('\\n')\n"
      ],
      "execution_count": 3,
      "outputs": [
        {
          "output_type": "stream",
          "text": [
            "Total no. of rows: 5\n",
            "\n",
            "Column names are : Id,Name,Age\n",
            "\n",
            "rows are:\n",
            "\n",
            "1 Rahul 50 \n",
            "\n",
            "2 Mahesh 80 \n",
            "\n",
            "3 Ravi 60 \n",
            "\n",
            "4 Pranay 55 \n",
            "\n"
          ],
          "name": "stdout"
        }
      ]
    }
  ]
}