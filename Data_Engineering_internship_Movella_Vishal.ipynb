{
  "nbformat": 4,
  "nbformat_minor": 0,
  "metadata": {
    "colab": {
      "name": "Data-Engineering-internship-Movella-Vishal.ipynb",
      "provenance": [],
      "collapsed_sections": [],
      "authorship_tag": "ABX9TyNwadwXzZsZte8scgFxEUEx",
      "include_colab_link": true
    },
    "kernelspec": {
      "name": "python3",
      "display_name": "Python 3"
    },
    "language_info": {
      "name": "python"
    }
  },
  "cells": [
    {
      "cell_type": "markdown",
      "metadata": {
        "id": "view-in-github",
        "colab_type": "text"
      },
      "source": [
        "<a href=\"https://colab.research.google.com/github/nandikonda-vishal21/vishchat/blob/main/Data_Engineering_internship_Movella_Vishal.ipynb\" target=\"_parent\"><img src=\"https://colab.research.google.com/assets/colab-badge.svg\" alt=\"Open In Colab\"/></a>"
      ]
    },
    {
      "cell_type": "markdown",
      "source": [
        "**PYTHON**"
      ],
      "metadata": {
        "id": "TLrPCeBJLNgG"
      }
    },
    {
      "cell_type": "code",
      "source": [
        "password = input(\"Type your password :\")\n",
        "score = 0\n",
        "\n",
        "lowercase = False\n",
        "uppercase = False\n",
        "number = False\n",
        "punctuation = False\n",
        "\n",
        "for charecter in password :\n",
        "  if charecter in \"abcdefghijklmnopqrstuvwxyz\" :\n",
        "    lowercase = True\n",
        "  elif charecter in \"ABCDEFGHIJKLMNOPQRSTUVWXYZ\" :\n",
        "    uppercase = True\n",
        "  elif charecter in \"0123456789\" :\n",
        "    number = True\n",
        "  else :\n",
        "     punctuation = True\n",
        "\n",
        "if lowercase == True :\n",
        "  print(\"Your password contains at least one lowercase charecter\")\n",
        "if uppercase == True :\n",
        "  print(\"Your password contains at least one uppercase charecter\")\n",
        "if number == True :\n",
        "  print(\"Your password contains at least one number\")\n",
        "if punctuation == True :\n",
        "  print(\"Your password contains at least one\")\n",
        "\n",
        "if lowercase == True and uppercase == True :\n",
        "   score = score + 10\n",
        "if number == True and (lowercase == True or uppercase == True):\n",
        "   score = score + 10\n",
        "if punctuation == True :\n",
        "   score = score + 5\n",
        "\n",
        "if len(password)>= 8:\n",
        "  score = score + 5\n",
        "  print(\"Your password contains at least 8 charecters\")\n",
        "\n",
        "print(\"score : \" + str(score))\n"
      ],
      "metadata": {
        "colab": {
          "base_uri": "https://localhost:8080/"
        },
        "id": "puioG7T2Blwf",
        "outputId": "10323331-48ad-4492-cc4c-5b41dd25411c"
      },
      "execution_count": 13,
      "outputs": [
        {
          "output_type": "stream",
          "name": "stdout",
          "text": [
            "Type your password :vishal21$\n",
            "Your password contains at least one lowercase charecter\n",
            "Your password contains at least one number\n",
            "Your password contains at least one\n",
            "Your password contains at least 8 charecters\n",
            "score : 20\n"
          ]
        }
      ]
    },
    {
      "cell_type": "code",
      "source": [
        "import logging\n",
        "logging.basicConfig(filename=\"newfile.log\",\n",
        "\t\t\t\t\tformat='%(asctime)s %(message)s',\n",
        "\t\t\t\t\tfilemode='w')\n",
        "\n",
        "logger = logging.getLogger()\n",
        "\n",
        "logger.setLevel(logging.DEBUG)\n",
        "\n",
        "logger.debug(\"Harmless debug Message\")\n",
        "logger.info(\"Just an information\")\n",
        "logger.warning(\"Its a Warning\")\n",
        "logger.error(\"Did you try to divide by zero\")\n",
        "logger.critical(\"Internet is down\")\n"
      ],
      "metadata": {
        "colab": {
          "base_uri": "https://localhost:8080/"
        },
        "id": "7_Q5WCxEKfsb",
        "outputId": "0a0c0ee5-3251-4b6e-f788-62e92f248214"
      },
      "execution_count": 14,
      "outputs": [
        {
          "output_type": "stream",
          "name": "stderr",
          "text": [
            "DEBUG:root:Harmless debug Message\n",
            "INFO:root:Just an information\n",
            "WARNING:root:Its a Warning\n",
            "ERROR:root:Did you try to divide by zero\n",
            "CRITICAL:root:Internet is down\n"
          ]
        }
      ]
    },
    {
      "cell_type": "markdown",
      "source": [
        "**SQL**"
      ],
      "metadata": {
        "id": "jXCEjDkILJdn"
      }
    },
    {
      "cell_type": "markdown",
      "source": [
        "a)select Name from Employee\n",
        "\n",
        "  Where grade > 200;"
      ],
      "metadata": {
        "id": "Jl7u1DBWLMIA"
      }
    },
    {
      "cell_type": "markdown",
      "source": [
        "b) select Department from Employee\n",
        "\n",
        "where Gender = 'M';"
      ],
      "metadata": {
        "id": "VV4Ij-wcMJGJ"
      }
    },
    {
      "cell_type": "markdown",
      "source": [
        "c) select Name from Employee\n",
        "\n",
        "group by salary\n",
        "\n",
        "order by salary desc limit 1,1;"
      ],
      "metadata": {
        "id": "9bMfyaBhM-S0"
      }
    },
    {
      "cell_type": "markdown",
      "source": [
        "d) select E.Name , E.Emp_id , E.class_teacher_employee_id , S.student_id\n",
        "\n",
        "From employee E\n",
        "\n",
        "left  outer join student S\n",
        "\n",
        "ON E.class_teacher_employee_id = S.student_id;"
      ],
      "metadata": {
        "id": "i_2Wnk1YNsTd"
      }
    },
    {
      "cell_type": "markdown",
      "source": [
        "e) select student_id from student\n",
        "\n",
        "where subject1 = 'p' AND subject2 = 'p' AND subject3 = 'p';"
      ],
      "metadata": {
        "id": "6xCfz39fQXAx"
      }
    },
    {
      "cell_type": "markdown",
      "source": [
        "f) select Employee.Emp_id from Employee\n",
        "\n",
        "INNER JOIN student\n",
        "\n",
        "ON student.class_teacher_employee_id = Employee.Emp_id\n",
        "\n",
        "Where student.subject1 = 'p' AND subject2 = 'p' AND subject3 = 'p';"
      ],
      "metadata": {
        "id": "4qwrrcUXSKUz"
      }
    }
  ]
}