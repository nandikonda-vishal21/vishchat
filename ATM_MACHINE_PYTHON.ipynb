{
  "nbformat": 4,
  "nbformat_minor": 0,
  "metadata": {
    "colab": {
      "name": "ATM-MACHINE-PYTHON.ipynb",
      "provenance": [],
      "authorship_tag": "ABX9TyNx13pud0VpDbm6Q/uGr4TU",
      "include_colab_link": true
    },
    "kernelspec": {
      "name": "python3",
      "display_name": "Python 3"
    },
    "language_info": {
      "name": "python"
    }
  },
  "cells": [
    {
      "cell_type": "markdown",
      "metadata": {
        "id": "view-in-github",
        "colab_type": "text"
      },
      "source": [
        "<a href=\"https://colab.research.google.com/github/nandikonda-vishal21/vishchat/blob/main/ATM_MACHINE_PYTHON.ipynb\" target=\"_parent\"><img src=\"https://colab.research.google.com/assets/colab-badge.svg\" alt=\"Open In Colab\"/></a>"
      ]
    },
    {
      "cell_type": "code",
      "metadata": {
        "id": "tguIys59879J"
      },
      "source": [
        "print('Welcome to SBI Bank ATM')\n",
        "restart = ('Y')\n",
        "chances = 3\n",
        "balance = 999.12\n",
        "while chances >= 0:\n",
        "  pin = int(input('Please Enter Your 4 Digit Pin: '))\n",
        "  if pin == (1234):\n",
        "    print('You entered your pin correctly')\n",
        "    print('please press 1 for your balance')\n",
        "    print('please press 2 to make a withdrawl')\n",
        "    print('please press 3 to pay in')\n",
        "    print('please press 4 to return card\\n')\n",
        "    while restart not in ('n','NO','no','N'):\n",
        "      print('You entered your pin correctly')\n",
        "      print('please press 1 for your balance')\n",
        "      print('please press 2 to make a withdrawl')\n",
        "      print('please press 3 to pay in')\n",
        "      print('please press 4 to return card')\n",
        "      option = int(input('what would you like to choose ?: '))\n",
        "      if option == 1 :\n",
        "        print('your balance is $', balance)\n",
        "        restart = input('would you like to go back ? ')\n",
        "        if restart in ('n','NO','no','N'):\n",
        "          print('Thank You')\n",
        "          break\n",
        "      elif option == 2 :\n",
        "        option2 = ('y')\n",
        "        withdrawl = float(input('How much would you like to withdraw ? 10,20,40,60,80,100 for other enter 1 : '))\n",
        "        if withdrawl in [10,20,40,60,80,100]:\n",
        "                           balance = balance - withdrawl\n",
        "                           print('\\nYour balance is now $', balance)\n",
        "                           if restart in ('n','NO','no','N'):\n",
        "                             print('Thank You')\n",
        "                             break\n",
        "                           elif withdrawl != [10,20,40,60,80,100]:\n",
        "                              print('Invalid Amount , please re-try\\n')\n",
        "                              restart = ('y')\n",
        "                           elif withdrawl == 1 :\n",
        "                              withdrawl = float(input('Please enter desired amount: '))\n",
        "      elif option == 3 :\n",
        "               pay_in = float(input('How much would you like to pay in ? '))\n",
        "               balance = balance + pay_in\n",
        "               print('\\nYour balance is now $', balance)\n",
        "               restart = input('Would you like to go back ? ')\n",
        "                    if restart in ('n','No','no','N'):\n",
        "                    print('Thank You')\n",
        "                    break\n",
        "      elif option == 4 :\n",
        "              print('please wait while your card is returned...\\n')\n",
        "              print('Thank You for your service')\n",
        "              break\n",
        "      else :\n",
        "         print('please enter correct number. \\n')\n",
        "         restart = ('y')\n",
        "  elif pin != ('1234'):\n",
        "      print('incorrect password')\n",
        "      chances = chances-1\n",
        "      if chances == 0 :\n",
        "        print('\\nNo more tries')\n",
        "        break\n",
        "\n",
        "\n",
        "\n",
        "\n",
        "      "
      ],
      "execution_count": null,
      "outputs": []
    },
    {
      "cell_type": "code",
      "metadata": {
        "id": "4Eguljv6IrKT"
      },
      "source": [
        ""
      ],
      "execution_count": null,
      "outputs": []
    }
  ]
}